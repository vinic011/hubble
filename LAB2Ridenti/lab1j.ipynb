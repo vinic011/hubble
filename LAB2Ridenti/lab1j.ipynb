{
 "cells": [
  {
   "cell_type": "code",
   "execution_count": 1,
   "metadata": {},
   "outputs": [],
   "source": [
    "import numpy as np\n",
    "import pandas as pd"
   ]
  },
  {
   "cell_type": "code",
   "execution_count": null,
   "metadata": {},
   "outputs": [],
   "source": []
  },
  {
   "cell_type": "code",
   "execution_count": 2,
   "metadata": {},
   "outputs": [
    {
     "name": "stderr",
     "output_type": "stream",
     "text": [
      "C:\\Users\\vinic\\AppData\\Local\\Temp\\ipykernel_13892\\983685298.py:1: FutureWarning: The error_bad_lines argument has been deprecated and will be removed in a future version. Use on_bad_lines in the future.\n",
      "\n",
      "\n",
      "  data = pd.read_csv(\"C:/Users/vinic/OneDrive/Documentos/Fis-26/LAB2RIDENTI/data.csv\",encoding='utf-8', sep=\",\", error_bad_lines=False)\n"
     ]
    }
   ],
   "source": [
    "data = pd.read_csv(\"C:/Users/vinic/OneDrive/Documentos/Fis-26/LAB2RIDENTI/data.csv\",encoding='utf-8', sep=\",\", error_bad_lines=False)"
   ]
  },
  {
   "cell_type": "code",
   "execution_count": 7,
   "metadata": {},
   "outputs": [
    {
     "data": {
      "text/html": [
       "<div>\n",
       "<style scoped>\n",
       "    .dataframe tbody tr th:only-of-type {\n",
       "        vertical-align: middle;\n",
       "    }\n",
       "\n",
       "    .dataframe tbody tr th {\n",
       "        vertical-align: top;\n",
       "    }\n",
       "\n",
       "    .dataframe thead th {\n",
       "        text-align: right;\n",
       "    }\n",
       "</style>\n",
       "<table border=\"1\" class=\"dataframe\">\n",
       "  <thead>\n",
       "    <tr style=\"text-align: right;\">\n",
       "      <th></th>\n",
       "      <th>f(Hz)</th>\n",
       "      <th>n</th>\n",
       "      <th>m(g)</th>\n",
       "      <th>l(cm)</th>\n",
       "      <th>x</th>\n",
       "    </tr>\n",
       "  </thead>\n",
       "  <tbody>\n",
       "    <tr>\n",
       "      <th>0</th>\n",
       "      <td>22</td>\n",
       "      <td>1</td>\n",
       "      <td>37.30</td>\n",
       "      <td>110</td>\n",
       "      <td>6.107373</td>\n",
       "    </tr>\n",
       "    <tr>\n",
       "      <th>1</th>\n",
       "      <td>45</td>\n",
       "      <td>2</td>\n",
       "      <td>37.30</td>\n",
       "      <td>110</td>\n",
       "      <td>12.214745</td>\n",
       "    </tr>\n",
       "    <tr>\n",
       "      <th>2</th>\n",
       "      <td>67</td>\n",
       "      <td>3</td>\n",
       "      <td>37.30</td>\n",
       "      <td>110</td>\n",
       "      <td>18.322118</td>\n",
       "    </tr>\n",
       "    <tr>\n",
       "      <th>3</th>\n",
       "      <td>22</td>\n",
       "      <td>1</td>\n",
       "      <td>37.30</td>\n",
       "      <td>110</td>\n",
       "      <td>6.107373</td>\n",
       "    </tr>\n",
       "    <tr>\n",
       "      <th>4</th>\n",
       "      <td>30</td>\n",
       "      <td>1</td>\n",
       "      <td>68.05</td>\n",
       "      <td>110</td>\n",
       "      <td>8.249242</td>\n",
       "    </tr>\n",
       "  </tbody>\n",
       "</table>\n",
       "</div>"
      ],
      "text/plain": [
       "   f(Hz)  n   m(g)  l(cm)          x\n",
       "0     22  1  37.30    110   6.107373\n",
       "1     45  2  37.30    110  12.214745\n",
       "2     67  3  37.30    110  18.322118\n",
       "3     22  1  37.30    110   6.107373\n",
       "4     30  1  68.05    110   8.249242"
      ]
     },
     "execution_count": 7,
     "metadata": {},
     "output_type": "execute_result"
    }
   ],
   "source": [
    "data['x'] = data['n']*np.sqrt(data['m(g)'])\n",
    "data.head()"
   ]
  },
  {
   "cell_type": "code",
   "execution_count": 29,
   "metadata": {},
   "outputs": [],
   "source": [
    "from sklearn.linear_model import LinearRegression\n",
    "import matplotlib.pyplot as plt  # To visualize\n",
    "r = LinearRegression()\n",
    "l = len(data['x'])\n",
    "X = data['x'].values.reshape(-1, 1)\n",
    "Y = data['f(Hz)'].values.reshape(-1, 1)\n",
    "r.fit(X,Y)\n",
    "Y_pred = r.predict(X)"
   ]
  },
  {
   "cell_type": "code",
   "execution_count": 28,
   "metadata": {},
   "outputs": [
    {
     "data": {
      "image/png": "[encoded data removed]",
      "text/plain": [
       "<Figure size 432x288 with 1 Axes>"
      ]
     },
     "metadata": {
      "needs_background": "light"
     },
     "output_type": "display_data"
    }
   ],
   "source": [
    "plt.scatter(X,Y)\n",
    "plt.plot(X,Y_pred,color='red')\n",
    "plt.show()"
   ]
  },
  {
   "cell_type": "code",
   "execution_count": 34,
   "metadata": {},
   "outputs": [],
   "source": [
    "alpha = np.dot(X,Y)/np.dot(X,X)\n",
    "Y_fit = alpha*X  # valores ajustados segundo a solução\n",
    "Y_res = Y - Y_fit  # resíduos absolutos"
   ]
  },
  {
   "cell_type": "code",
   "execution_count": 44,
   "metadata": {},
   "outputs": [
    {
     "data": {
      "image/png": "[encoded data removed]",
      "text/plain": [
       "<Figure size 432x288 with 1 Axes>"
      ]
     },
     "metadata": {
      "needs_background": "light"
     },
     "output_type": "display_data"
    },
    {
     "data": {
      "image/png": "[encoded data removed]",
      "text/plain": [
       "<Figure size 432x288 with 1 Axes>"
      ]
     },
     "metadata": {
      "needs_background": "light"
     },
     "output_type": "display_data"
    },
    {
     "name": "stdout",
     "output_type": "stream",
     "text": [
      " ang = 3.665  Incerteza = 0.004, inf = 0.369 \n"
     ]
    }
   ],
   "source": [
    "\n",
    "_, ax = plt.subplots()\n",
    "plt.title(u'freq')\n",
    "plt.plot(X, Y, 'o')\n",
    "plt.plot(X, Y_fit, '-')\n",
    "plt.xlabel(u'x')\n",
    "plt.ylabel(u'f')\n",
    "\n",
    "_, ax = plt.subplots()\n",
    "plt.title(u'Gráfico de resíduos')\n",
    "plt.plot(X, Y_res, 'o')\n",
    "plt.axhline(0)\n",
    "plt.xlabel(u'x')\n",
    "plt.ylabel(u'f')\n",
    "\n",
    "plt.show()\n",
    "\n",
    "# Estima variância dos dados\n",
    "chi2 = np.dot(Y - Y_fit, Y - Y_fit)\n",
    "ngl = len(Y) - 1\n",
    "var = chi2 / ngl\n",
    "df = np.sqrt(var)\n",
    "# Não é necessário calcular novamente os parâmetros\n",
    "# Variância constante não afeta a estimativa dos parâme tros\n",
    "\n",
    "# Calcula a matriz de covariância dos parâmetros\n",
    "cov = var/np.dot(X,X)\n",
    "\n",
    "# Calcula constante de Hubble\n",
    "H0 = alpha\n",
    "s_H0 = np.sqrt(cov)\n",
    "print(u' ang = %.3f  Incerteza = %.3f, inf = %.3f ' % (H0, s_H0, df))"
   ]
  },
  {
   "cell_type": "code",
   "execution_count": 49,
   "metadata": {},
   "outputs": [
    {
     "name": "stdout",
     "output_type": "stream",
     "text": [
      "1.5048535565586791\n",
      "0.0035583048765049545\n"
     ]
    }
   ],
   "source": [
    "m = 9.786*100*1000/((2*H0*110)**2)\n",
    "print(m)\n",
    "dm = 2*m*np.sqrt((0.05/110)**2+(0.004/3.665)**2)\n",
    "print(dm)"
   ]
  }
 ],
 "metadata": {
  "interpreter": {
   "hash": "8a12f67564599e9a488c8320809664895e7c5a3dd5d5eb4ee546787426a0bc08"
  },
  "kernelspec": {
   "display_name": "Python 3.9.7 ('ct213')",
   "language": "python",
   "name": "python3"
  },
  "language_info": {
   "codemirror_mode": {
    "name": "ipython",
    "version": 3
   },
   "file_extension": ".py",
   "mimetype": "text/x-python",
   "name": "python",
   "nbconvert_exporter": "python",
   "pygments_lexer": "ipython3",
   "version": "3.9.7"
  },
  "orig_nbformat": 4
 },
 "nbformat": 4,
 "nbformat_minor": 2
}
